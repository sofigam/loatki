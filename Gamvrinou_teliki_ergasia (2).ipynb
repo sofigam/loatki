{
  "cells": [
    {
      "cell_type": "code",
      "execution_count": 1,
      "metadata": {
        "id": "jO6MllguMhkJ"
      },
      "outputs": [],
      "source": [
        "import requests\n",
        "from bs4 import BeautifulSoup\n",
        "import pandas as pd\n",
        "from datetime import datetime\n",
        "import ast\n",
        "import time\n",
        "import matplotlib.pyplot as plt\n",
        "plt.style.use('ggplot')\n",
        "from wordcloud import WordCloud\n",
        "from collections import Counter\n",
        "from nltk.corpus import stopwords\n",
        "from nltk.util import ngrams\n",
        "from sklearn.feature_extraction.text import CountVectorizer\n",
        "\n"
      ]
    },
    {
      "cell_type": "markdown",
      "metadata": {
        "id": "a9Cqeq0jOhwn"
      },
      "source": [
        "##1. Συλλογή δεδομένων / scraping "
      ]
    },
    {
      "cell_type": "code",
      "execution_count": 2,
      "metadata": {
        "id": "z7CRfRhIMmAY"
      },
      "outputs": [],
      "source": [
        "headers = {\"User-Agent\": \"Mozilla/5.0 (Windows NT 10.0; Win64; x64) AppleWebKit/537.36 (KHTML, like Gecko) Chrome/70.0.3538.77 Safari/537.36\"}"
      ]
    },
    {
      "cell_type": "code",
      "execution_count": 3,
      "metadata": {
        "id": "x1OZxKR-QUL_",
        "colab": {
          "base_uri": "https://localhost:8080/",
          "height": 443
        },
        "outputId": "372c50fa-7bf4-47d7-febb-7827a83adb99"
      },
      "outputs": [
        {
          "output_type": "error",
          "ename": "KeyboardInterrupt",
          "evalue": "ignored",
          "traceback": [
            "\u001b[0;31m---------------------------------------------------------------------------\u001b[0m",
            "\u001b[0;31mTypeError\u001b[0m                                 Traceback (most recent call last)",
            "\u001b[0;32m/usr/local/lib/python3.7/dist-packages/urllib3/connectionpool.py\u001b[0m in \u001b[0;36m_make_request\u001b[0;34m(self, conn, method, url, timeout, chunked, **httplib_request_kw)\u001b[0m\n\u001b[1;32m    376\u001b[0m             \u001b[0;32mtry\u001b[0m\u001b[0;34m:\u001b[0m  \u001b[0;31m# Python 2.7, use buffering of HTTP responses\u001b[0m\u001b[0;34m\u001b[0m\u001b[0;34m\u001b[0m\u001b[0m\n\u001b[0;32m--> 377\u001b[0;31m                 \u001b[0mhttplib_response\u001b[0m \u001b[0;34m=\u001b[0m \u001b[0mconn\u001b[0m\u001b[0;34m.\u001b[0m\u001b[0mgetresponse\u001b[0m\u001b[0;34m(\u001b[0m\u001b[0mbuffering\u001b[0m\u001b[0;34m=\u001b[0m\u001b[0;32mTrue\u001b[0m\u001b[0;34m)\u001b[0m\u001b[0;34m\u001b[0m\u001b[0;34m\u001b[0m\u001b[0m\n\u001b[0m\u001b[1;32m    378\u001b[0m             \u001b[0;32mexcept\u001b[0m \u001b[0mTypeError\u001b[0m\u001b[0;34m:\u001b[0m  \u001b[0;31m# Python 3\u001b[0m\u001b[0;34m\u001b[0m\u001b[0;34m\u001b[0m\u001b[0m\n",
            "\u001b[0;31mTypeError\u001b[0m: getresponse() got an unexpected keyword argument 'buffering'",
            "\nDuring handling of the above exception, another exception occurred:\n",
            "\u001b[0;31mKeyboardInterrupt\u001b[0m                         Traceback (most recent call last)",
            "\u001b[0;32m<ipython-input-3-9b8a4f0202fc>\u001b[0m in \u001b[0;36m<module>\u001b[0;34m()\u001b[0m\n\u001b[0;32m----> 1\u001b[0;31m \u001b[0mresponse\u001b[0m \u001b[0;34m=\u001b[0m \u001b[0mrequests\u001b[0m\u001b[0;34m.\u001b[0m\u001b[0mget\u001b[0m\u001b[0;34m(\u001b[0m\u001b[0;34m\"https://www.news247.gr/loatki\"\u001b[0m\u001b[0;34m,\u001b[0m \u001b[0mheaders\u001b[0m\u001b[0;34m=\u001b[0m\u001b[0mheaders\u001b[0m\u001b[0;34m)\u001b[0m\u001b[0;34m\u001b[0m\u001b[0;34m\u001b[0m\u001b[0m\n\u001b[0m\u001b[1;32m      2\u001b[0m \u001b[0mloatki_doc\u001b[0m \u001b[0;34m=\u001b[0m \u001b[0mBeautifulSoup\u001b[0m\u001b[0;34m(\u001b[0m\u001b[0mresponse\u001b[0m\u001b[0;34m.\u001b[0m\u001b[0mtext\u001b[0m\u001b[0;34m)\u001b[0m\u001b[0;34m\u001b[0m\u001b[0;34m\u001b[0m\u001b[0m\n",
            "\u001b[0;32m/usr/local/lib/python3.7/dist-packages/requests/api.py\u001b[0m in \u001b[0;36mget\u001b[0;34m(url, params, **kwargs)\u001b[0m\n\u001b[1;32m     74\u001b[0m \u001b[0;34m\u001b[0m\u001b[0m\n\u001b[1;32m     75\u001b[0m     \u001b[0mkwargs\u001b[0m\u001b[0;34m.\u001b[0m\u001b[0msetdefault\u001b[0m\u001b[0;34m(\u001b[0m\u001b[0;34m'allow_redirects'\u001b[0m\u001b[0;34m,\u001b[0m \u001b[0;32mTrue\u001b[0m\u001b[0;34m)\u001b[0m\u001b[0;34m\u001b[0m\u001b[0;34m\u001b[0m\u001b[0m\n\u001b[0;32m---> 76\u001b[0;31m     \u001b[0;32mreturn\u001b[0m \u001b[0mrequest\u001b[0m\u001b[0;34m(\u001b[0m\u001b[0;34m'get'\u001b[0m\u001b[0;34m,\u001b[0m \u001b[0murl\u001b[0m\u001b[0;34m,\u001b[0m \u001b[0mparams\u001b[0m\u001b[0;34m=\u001b[0m\u001b[0mparams\u001b[0m\u001b[0;34m,\u001b[0m \u001b[0;34m**\u001b[0m\u001b[0mkwargs\u001b[0m\u001b[0;34m)\u001b[0m\u001b[0;34m\u001b[0m\u001b[0;34m\u001b[0m\u001b[0m\n\u001b[0m\u001b[1;32m     77\u001b[0m \u001b[0;34m\u001b[0m\u001b[0m\n\u001b[1;32m     78\u001b[0m \u001b[0;34m\u001b[0m\u001b[0m\n",
            "\u001b[0;32m/usr/local/lib/python3.7/dist-packages/requests/api.py\u001b[0m in \u001b[0;36mrequest\u001b[0;34m(method, url, **kwargs)\u001b[0m\n\u001b[1;32m     59\u001b[0m     \u001b[0;31m# cases, and look like a memory leak in others.\u001b[0m\u001b[0;34m\u001b[0m\u001b[0;34m\u001b[0m\u001b[0;34m\u001b[0m\u001b[0m\n\u001b[1;32m     60\u001b[0m     \u001b[0;32mwith\u001b[0m \u001b[0msessions\u001b[0m\u001b[0;34m.\u001b[0m\u001b[0mSession\u001b[0m\u001b[0;34m(\u001b[0m\u001b[0;34m)\u001b[0m \u001b[0;32mas\u001b[0m \u001b[0msession\u001b[0m\u001b[0;34m:\u001b[0m\u001b[0;34m\u001b[0m\u001b[0;34m\u001b[0m\u001b[0m\n\u001b[0;32m---> 61\u001b[0;31m         \u001b[0;32mreturn\u001b[0m \u001b[0msession\u001b[0m\u001b[0;34m.\u001b[0m\u001b[0mrequest\u001b[0m\u001b[0;34m(\u001b[0m\u001b[0mmethod\u001b[0m\u001b[0;34m=\u001b[0m\u001b[0mmethod\u001b[0m\u001b[0;34m,\u001b[0m \u001b[0murl\u001b[0m\u001b[0;34m=\u001b[0m\u001b[0murl\u001b[0m\u001b[0;34m,\u001b[0m \u001b[0;34m**\u001b[0m\u001b[0mkwargs\u001b[0m\u001b[0;34m)\u001b[0m\u001b[0;34m\u001b[0m\u001b[0;34m\u001b[0m\u001b[0m\n\u001b[0m\u001b[1;32m     62\u001b[0m \u001b[0;34m\u001b[0m\u001b[0m\n\u001b[1;32m     63\u001b[0m \u001b[0;34m\u001b[0m\u001b[0m\n",
            "\u001b[0;32m/usr/local/lib/python3.7/dist-packages/requests/sessions.py\u001b[0m in \u001b[0;36mrequest\u001b[0;34m(self, method, url, params, data, headers, cookies, files, auth, timeout, allow_redirects, proxies, hooks, stream, verify, cert, json)\u001b[0m\n\u001b[1;32m    528\u001b[0m         }\n\u001b[1;32m    529\u001b[0m         \u001b[0msend_kwargs\u001b[0m\u001b[0;34m.\u001b[0m\u001b[0mupdate\u001b[0m\u001b[0;34m(\u001b[0m\u001b[0msettings\u001b[0m\u001b[0;34m)\u001b[0m\u001b[0;34m\u001b[0m\u001b[0;34m\u001b[0m\u001b[0m\n\u001b[0;32m--> 530\u001b[0;31m         \u001b[0mresp\u001b[0m \u001b[0;34m=\u001b[0m \u001b[0mself\u001b[0m\u001b[0;34m.\u001b[0m\u001b[0msend\u001b[0m\u001b[0;34m(\u001b[0m\u001b[0mprep\u001b[0m\u001b[0;34m,\u001b[0m \u001b[0;34m**\u001b[0m\u001b[0msend_kwargs\u001b[0m\u001b[0;34m)\u001b[0m\u001b[0;34m\u001b[0m\u001b[0;34m\u001b[0m\u001b[0m\n\u001b[0m\u001b[1;32m    531\u001b[0m \u001b[0;34m\u001b[0m\u001b[0m\n\u001b[1;32m    532\u001b[0m         \u001b[0;32mreturn\u001b[0m \u001b[0mresp\u001b[0m\u001b[0;34m\u001b[0m\u001b[0;34m\u001b[0m\u001b[0m\n",
            "\u001b[0;32m/usr/local/lib/python3.7/dist-packages/requests/sessions.py\u001b[0m in \u001b[0;36msend\u001b[0;34m(self, request, **kwargs)\u001b[0m\n\u001b[1;32m    641\u001b[0m \u001b[0;34m\u001b[0m\u001b[0m\n\u001b[1;32m    642\u001b[0m         \u001b[0;31m# Send the request\u001b[0m\u001b[0;34m\u001b[0m\u001b[0;34m\u001b[0m\u001b[0;34m\u001b[0m\u001b[0m\n\u001b[0;32m--> 643\u001b[0;31m         \u001b[0mr\u001b[0m \u001b[0;34m=\u001b[0m \u001b[0madapter\u001b[0m\u001b[0;34m.\u001b[0m\u001b[0msend\u001b[0m\u001b[0;34m(\u001b[0m\u001b[0mrequest\u001b[0m\u001b[0;34m,\u001b[0m \u001b[0;34m**\u001b[0m\u001b[0mkwargs\u001b[0m\u001b[0;34m)\u001b[0m\u001b[0;34m\u001b[0m\u001b[0;34m\u001b[0m\u001b[0m\n\u001b[0m\u001b[1;32m    644\u001b[0m \u001b[0;34m\u001b[0m\u001b[0m\n\u001b[1;32m    645\u001b[0m         \u001b[0;31m# Total elapsed time of the request (approximately)\u001b[0m\u001b[0;34m\u001b[0m\u001b[0;34m\u001b[0m\u001b[0;34m\u001b[0m\u001b[0m\n",
            "\u001b[0;32m/usr/local/lib/python3.7/dist-packages/requests/adapters.py\u001b[0m in \u001b[0;36msend\u001b[0;34m(self, request, stream, timeout, verify, cert, proxies)\u001b[0m\n\u001b[1;32m    447\u001b[0m                     \u001b[0mdecode_content\u001b[0m\u001b[0;34m=\u001b[0m\u001b[0;32mFalse\u001b[0m\u001b[0;34m,\u001b[0m\u001b[0;34m\u001b[0m\u001b[0;34m\u001b[0m\u001b[0m\n\u001b[1;32m    448\u001b[0m                     \u001b[0mretries\u001b[0m\u001b[0;34m=\u001b[0m\u001b[0mself\u001b[0m\u001b[0;34m.\u001b[0m\u001b[0mmax_retries\u001b[0m\u001b[0;34m,\u001b[0m\u001b[0;34m\u001b[0m\u001b[0;34m\u001b[0m\u001b[0m\n\u001b[0;32m--> 449\u001b[0;31m                     \u001b[0mtimeout\u001b[0m\u001b[0;34m=\u001b[0m\u001b[0mtimeout\u001b[0m\u001b[0;34m\u001b[0m\u001b[0;34m\u001b[0m\u001b[0m\n\u001b[0m\u001b[1;32m    450\u001b[0m                 )\n\u001b[1;32m    451\u001b[0m \u001b[0;34m\u001b[0m\u001b[0m\n",
            "\u001b[0;32m/usr/local/lib/python3.7/dist-packages/urllib3/connectionpool.py\u001b[0m in \u001b[0;36murlopen\u001b[0;34m(self, method, url, body, headers, retries, redirect, assert_same_host, timeout, pool_timeout, release_conn, chunked, body_pos, **response_kw)\u001b[0m\n\u001b[1;32m    598\u001b[0m                                                   \u001b[0mtimeout\u001b[0m\u001b[0;34m=\u001b[0m\u001b[0mtimeout_obj\u001b[0m\u001b[0;34m,\u001b[0m\u001b[0;34m\u001b[0m\u001b[0;34m\u001b[0m\u001b[0m\n\u001b[1;32m    599\u001b[0m                                                   \u001b[0mbody\u001b[0m\u001b[0;34m=\u001b[0m\u001b[0mbody\u001b[0m\u001b[0;34m,\u001b[0m \u001b[0mheaders\u001b[0m\u001b[0;34m=\u001b[0m\u001b[0mheaders\u001b[0m\u001b[0;34m,\u001b[0m\u001b[0;34m\u001b[0m\u001b[0;34m\u001b[0m\u001b[0m\n\u001b[0;32m--> 600\u001b[0;31m                                                   chunked=chunked)\n\u001b[0m\u001b[1;32m    601\u001b[0m \u001b[0;34m\u001b[0m\u001b[0m\n\u001b[1;32m    602\u001b[0m             \u001b[0;31m# If we're going to release the connection in ``finally:``, then\u001b[0m\u001b[0;34m\u001b[0m\u001b[0;34m\u001b[0m\u001b[0;34m\u001b[0m\u001b[0m\n",
            "\u001b[0;32m/usr/local/lib/python3.7/dist-packages/urllib3/connectionpool.py\u001b[0m in \u001b[0;36m_make_request\u001b[0;34m(self, conn, method, url, timeout, chunked, **httplib_request_kw)\u001b[0m\n\u001b[1;32m    378\u001b[0m             \u001b[0;32mexcept\u001b[0m \u001b[0mTypeError\u001b[0m\u001b[0;34m:\u001b[0m  \u001b[0;31m# Python 3\u001b[0m\u001b[0;34m\u001b[0m\u001b[0;34m\u001b[0m\u001b[0m\n\u001b[1;32m    379\u001b[0m                 \u001b[0;32mtry\u001b[0m\u001b[0;34m:\u001b[0m\u001b[0;34m\u001b[0m\u001b[0;34m\u001b[0m\u001b[0m\n\u001b[0;32m--> 380\u001b[0;31m                     \u001b[0mhttplib_response\u001b[0m \u001b[0;34m=\u001b[0m \u001b[0mconn\u001b[0m\u001b[0;34m.\u001b[0m\u001b[0mgetresponse\u001b[0m\u001b[0;34m(\u001b[0m\u001b[0;34m)\u001b[0m\u001b[0;34m\u001b[0m\u001b[0;34m\u001b[0m\u001b[0m\n\u001b[0m\u001b[1;32m    381\u001b[0m                 \u001b[0;32mexcept\u001b[0m \u001b[0mException\u001b[0m \u001b[0;32mas\u001b[0m \u001b[0me\u001b[0m\u001b[0;34m:\u001b[0m\u001b[0;34m\u001b[0m\u001b[0;34m\u001b[0m\u001b[0m\n\u001b[1;32m    382\u001b[0m                     \u001b[0;31m# Remove the TypeError from the exception chain in Python 3;\u001b[0m\u001b[0;34m\u001b[0m\u001b[0;34m\u001b[0m\u001b[0;34m\u001b[0m\u001b[0m\n",
            "\u001b[0;32m/usr/lib/python3.7/http/client.py\u001b[0m in \u001b[0;36mgetresponse\u001b[0;34m(self)\u001b[0m\n\u001b[1;32m   1371\u001b[0m         \u001b[0;32mtry\u001b[0m\u001b[0;34m:\u001b[0m\u001b[0;34m\u001b[0m\u001b[0;34m\u001b[0m\u001b[0m\n\u001b[1;32m   1372\u001b[0m             \u001b[0;32mtry\u001b[0m\u001b[0;34m:\u001b[0m\u001b[0;34m\u001b[0m\u001b[0;34m\u001b[0m\u001b[0m\n\u001b[0;32m-> 1373\u001b[0;31m                 \u001b[0mresponse\u001b[0m\u001b[0;34m.\u001b[0m\u001b[0mbegin\u001b[0m\u001b[0;34m(\u001b[0m\u001b[0;34m)\u001b[0m\u001b[0;34m\u001b[0m\u001b[0;34m\u001b[0m\u001b[0m\n\u001b[0m\u001b[1;32m   1374\u001b[0m             \u001b[0;32mexcept\u001b[0m \u001b[0mConnectionError\u001b[0m\u001b[0;34m:\u001b[0m\u001b[0;34m\u001b[0m\u001b[0;34m\u001b[0m\u001b[0m\n\u001b[1;32m   1375\u001b[0m                 \u001b[0mself\u001b[0m\u001b[0;34m.\u001b[0m\u001b[0mclose\u001b[0m\u001b[0;34m(\u001b[0m\u001b[0;34m)\u001b[0m\u001b[0;34m\u001b[0m\u001b[0;34m\u001b[0m\u001b[0m\n",
            "\u001b[0;32m/usr/lib/python3.7/http/client.py\u001b[0m in \u001b[0;36mbegin\u001b[0;34m(self)\u001b[0m\n\u001b[1;32m    317\u001b[0m         \u001b[0;31m# read until we get a non-100 response\u001b[0m\u001b[0;34m\u001b[0m\u001b[0;34m\u001b[0m\u001b[0;34m\u001b[0m\u001b[0m\n\u001b[1;32m    318\u001b[0m         \u001b[0;32mwhile\u001b[0m \u001b[0;32mTrue\u001b[0m\u001b[0;34m:\u001b[0m\u001b[0;34m\u001b[0m\u001b[0;34m\u001b[0m\u001b[0m\n\u001b[0;32m--> 319\u001b[0;31m             \u001b[0mversion\u001b[0m\u001b[0;34m,\u001b[0m \u001b[0mstatus\u001b[0m\u001b[0;34m,\u001b[0m \u001b[0mreason\u001b[0m \u001b[0;34m=\u001b[0m \u001b[0mself\u001b[0m\u001b[0;34m.\u001b[0m\u001b[0m_read_status\u001b[0m\u001b[0;34m(\u001b[0m\u001b[0;34m)\u001b[0m\u001b[0;34m\u001b[0m\u001b[0;34m\u001b[0m\u001b[0m\n\u001b[0m\u001b[1;32m    320\u001b[0m             \u001b[0;32mif\u001b[0m \u001b[0mstatus\u001b[0m \u001b[0;34m!=\u001b[0m \u001b[0mCONTINUE\u001b[0m\u001b[0;34m:\u001b[0m\u001b[0;34m\u001b[0m\u001b[0;34m\u001b[0m\u001b[0m\n\u001b[1;32m    321\u001b[0m                 \u001b[0;32mbreak\u001b[0m\u001b[0;34m\u001b[0m\u001b[0;34m\u001b[0m\u001b[0m\n",
            "\u001b[0;32m/usr/lib/python3.7/http/client.py\u001b[0m in \u001b[0;36m_read_status\u001b[0;34m(self)\u001b[0m\n\u001b[1;32m    278\u001b[0m \u001b[0;34m\u001b[0m\u001b[0m\n\u001b[1;32m    279\u001b[0m     \u001b[0;32mdef\u001b[0m \u001b[0m_read_status\u001b[0m\u001b[0;34m(\u001b[0m\u001b[0mself\u001b[0m\u001b[0;34m)\u001b[0m\u001b[0;34m:\u001b[0m\u001b[0;34m\u001b[0m\u001b[0;34m\u001b[0m\u001b[0m\n\u001b[0;32m--> 280\u001b[0;31m         \u001b[0mline\u001b[0m \u001b[0;34m=\u001b[0m \u001b[0mstr\u001b[0m\u001b[0;34m(\u001b[0m\u001b[0mself\u001b[0m\u001b[0;34m.\u001b[0m\u001b[0mfp\u001b[0m\u001b[0;34m.\u001b[0m\u001b[0mreadline\u001b[0m\u001b[0;34m(\u001b[0m\u001b[0m_MAXLINE\u001b[0m \u001b[0;34m+\u001b[0m \u001b[0;36m1\u001b[0m\u001b[0;34m)\u001b[0m\u001b[0;34m,\u001b[0m \u001b[0;34m\"iso-8859-1\"\u001b[0m\u001b[0;34m)\u001b[0m\u001b[0;34m\u001b[0m\u001b[0;34m\u001b[0m\u001b[0m\n\u001b[0m\u001b[1;32m    281\u001b[0m         \u001b[0;32mif\u001b[0m \u001b[0mlen\u001b[0m\u001b[0;34m(\u001b[0m\u001b[0mline\u001b[0m\u001b[0;34m)\u001b[0m \u001b[0;34m>\u001b[0m \u001b[0m_MAXLINE\u001b[0m\u001b[0;34m:\u001b[0m\u001b[0;34m\u001b[0m\u001b[0;34m\u001b[0m\u001b[0m\n\u001b[1;32m    282\u001b[0m             \u001b[0;32mraise\u001b[0m \u001b[0mLineTooLong\u001b[0m\u001b[0;34m(\u001b[0m\u001b[0;34m\"status line\"\u001b[0m\u001b[0;34m)\u001b[0m\u001b[0;34m\u001b[0m\u001b[0;34m\u001b[0m\u001b[0m\n",
            "\u001b[0;32m/usr/lib/python3.7/socket.py\u001b[0m in \u001b[0;36mreadinto\u001b[0;34m(self, b)\u001b[0m\n\u001b[1;32m    587\u001b[0m         \u001b[0;32mwhile\u001b[0m \u001b[0;32mTrue\u001b[0m\u001b[0;34m:\u001b[0m\u001b[0;34m\u001b[0m\u001b[0;34m\u001b[0m\u001b[0m\n\u001b[1;32m    588\u001b[0m             \u001b[0;32mtry\u001b[0m\u001b[0;34m:\u001b[0m\u001b[0;34m\u001b[0m\u001b[0;34m\u001b[0m\u001b[0m\n\u001b[0;32m--> 589\u001b[0;31m                 \u001b[0;32mreturn\u001b[0m \u001b[0mself\u001b[0m\u001b[0;34m.\u001b[0m\u001b[0m_sock\u001b[0m\u001b[0;34m.\u001b[0m\u001b[0mrecv_into\u001b[0m\u001b[0;34m(\u001b[0m\u001b[0mb\u001b[0m\u001b[0;34m)\u001b[0m\u001b[0;34m\u001b[0m\u001b[0;34m\u001b[0m\u001b[0m\n\u001b[0m\u001b[1;32m    590\u001b[0m             \u001b[0;32mexcept\u001b[0m \u001b[0mtimeout\u001b[0m\u001b[0;34m:\u001b[0m\u001b[0;34m\u001b[0m\u001b[0;34m\u001b[0m\u001b[0m\n\u001b[1;32m    591\u001b[0m                 \u001b[0mself\u001b[0m\u001b[0;34m.\u001b[0m\u001b[0m_timeout_occurred\u001b[0m \u001b[0;34m=\u001b[0m \u001b[0;32mTrue\u001b[0m\u001b[0;34m\u001b[0m\u001b[0;34m\u001b[0m\u001b[0m\n",
            "\u001b[0;32m/usr/lib/python3.7/ssl.py\u001b[0m in \u001b[0;36mrecv_into\u001b[0;34m(self, buffer, nbytes, flags)\u001b[0m\n\u001b[1;32m   1069\u001b[0m                   \u001b[0;34m\"non-zero flags not allowed in calls to recv_into() on %s\"\u001b[0m \u001b[0;34m%\u001b[0m\u001b[0;34m\u001b[0m\u001b[0;34m\u001b[0m\u001b[0m\n\u001b[1;32m   1070\u001b[0m                   self.__class__)\n\u001b[0;32m-> 1071\u001b[0;31m             \u001b[0;32mreturn\u001b[0m \u001b[0mself\u001b[0m\u001b[0;34m.\u001b[0m\u001b[0mread\u001b[0m\u001b[0;34m(\u001b[0m\u001b[0mnbytes\u001b[0m\u001b[0;34m,\u001b[0m \u001b[0mbuffer\u001b[0m\u001b[0;34m)\u001b[0m\u001b[0;34m\u001b[0m\u001b[0;34m\u001b[0m\u001b[0m\n\u001b[0m\u001b[1;32m   1072\u001b[0m         \u001b[0;32melse\u001b[0m\u001b[0;34m:\u001b[0m\u001b[0;34m\u001b[0m\u001b[0;34m\u001b[0m\u001b[0m\n\u001b[1;32m   1073\u001b[0m             \u001b[0;32mreturn\u001b[0m \u001b[0msuper\u001b[0m\u001b[0;34m(\u001b[0m\u001b[0;34m)\u001b[0m\u001b[0;34m.\u001b[0m\u001b[0mrecv_into\u001b[0m\u001b[0;34m(\u001b[0m\u001b[0mbuffer\u001b[0m\u001b[0;34m,\u001b[0m \u001b[0mnbytes\u001b[0m\u001b[0;34m,\u001b[0m \u001b[0mflags\u001b[0m\u001b[0;34m)\u001b[0m\u001b[0;34m\u001b[0m\u001b[0;34m\u001b[0m\u001b[0m\n",
            "\u001b[0;32m/usr/lib/python3.7/ssl.py\u001b[0m in \u001b[0;36mread\u001b[0;34m(self, len, buffer)\u001b[0m\n\u001b[1;32m    927\u001b[0m         \u001b[0;32mtry\u001b[0m\u001b[0;34m:\u001b[0m\u001b[0;34m\u001b[0m\u001b[0;34m\u001b[0m\u001b[0m\n\u001b[1;32m    928\u001b[0m             \u001b[0;32mif\u001b[0m \u001b[0mbuffer\u001b[0m \u001b[0;32mis\u001b[0m \u001b[0;32mnot\u001b[0m \u001b[0;32mNone\u001b[0m\u001b[0;34m:\u001b[0m\u001b[0;34m\u001b[0m\u001b[0;34m\u001b[0m\u001b[0m\n\u001b[0;32m--> 929\u001b[0;31m                 \u001b[0;32mreturn\u001b[0m \u001b[0mself\u001b[0m\u001b[0;34m.\u001b[0m\u001b[0m_sslobj\u001b[0m\u001b[0;34m.\u001b[0m\u001b[0mread\u001b[0m\u001b[0;34m(\u001b[0m\u001b[0mlen\u001b[0m\u001b[0;34m,\u001b[0m \u001b[0mbuffer\u001b[0m\u001b[0;34m)\u001b[0m\u001b[0;34m\u001b[0m\u001b[0;34m\u001b[0m\u001b[0m\n\u001b[0m\u001b[1;32m    930\u001b[0m             \u001b[0;32melse\u001b[0m\u001b[0;34m:\u001b[0m\u001b[0;34m\u001b[0m\u001b[0;34m\u001b[0m\u001b[0m\n\u001b[1;32m    931\u001b[0m                 \u001b[0;32mreturn\u001b[0m \u001b[0mself\u001b[0m\u001b[0;34m.\u001b[0m\u001b[0m_sslobj\u001b[0m\u001b[0;34m.\u001b[0m\u001b[0mread\u001b[0m\u001b[0;34m(\u001b[0m\u001b[0mlen\u001b[0m\u001b[0;34m)\u001b[0m\u001b[0;34m\u001b[0m\u001b[0;34m\u001b[0m\u001b[0m\n",
            "\u001b[0;31mKeyboardInterrupt\u001b[0m: "
          ]
        }
      ],
      "source": [
        "response = requests.get(\"https://www.news247.gr/loatki\", headers=headers)\n",
        "loatki_doc = BeautifulSoup(response.text)"
      ]
    },
    {
      "cell_type": "code",
      "execution_count": null,
      "metadata": {
        "id": "C5YW928EQhf5"
      },
      "outputs": [],
      "source": [
        "headlines = loatki_doc.find_all('h2')\n",
        "\n",
        "for headline in headlines:\n",
        "    print(headline.text)"
      ]
    },
    {
      "cell_type": "code",
      "execution_count": null,
      "metadata": {
        "id": "HoOVkBc7Re-q"
      },
      "outputs": [],
      "source": [
        "links = loatki_doc.select(\"h2 a\") \n",
        "links"
      ]
    },
    {
      "cell_type": "code",
      "source": [
        "urls = [link['href'] for link in links]\n",
        "urls"
      ],
      "metadata": {
        "id": "0s7vhPUUCiLd"
      },
      "execution_count": null,
      "outputs": []
    },
    {
      "cell_type": "code",
      "source": [
        "leadtexts= loatki_doc.find_all('p' , {'class':'article__leadtext'})\n",
        "summaries = [leadtext.text for leadtext in leadtexts]\n",
        "#summaries"
      ],
      "metadata": {
        "id": "YmeV4FeuCwfH"
      },
      "execution_count": null,
      "outputs": []
    },
    {
      "cell_type": "code",
      "source": [
        "dates = loatki_doc.select ('time')\n",
        "time = [date['datetime'] for date in dates]\n"
      ],
      "metadata": {
        "id": "DulDOPUYC2UH"
      },
      "execution_count": null,
      "outputs": []
    },
    {
      "cell_type": "code",
      "execution_count": null,
      "metadata": {
        "id": "ChF2rCL7R6d4"
      },
      "outputs": [],
      "source": [
        "titles = [link.text for link in links]\n",
        "titles"
      ]
    },
    {
      "cell_type": "code",
      "source": [
        "from bs4 import BeautifulSoup\n",
        "import requests\n",
        "import time\n",
        "\n",
        "headers = {'user-agent': 'my-app/0.0.1'}\n",
        "PAUSE_TIME = 3.5\n",
        "\n",
        "def get_text(url):\n",
        "    r = requests.get(url, headers = headers)\n",
        "    time.sleep(PAUSE_TIME)\n",
        "    s = BeautifulSoup(r.content, 'html.parser')\n",
        "    link = s.find(\"h2 a\")\n",
        "    \n",
        "    return([s, link])"
      ],
      "metadata": {
        "id": "T0AwJ_WKDG4f"
      },
      "execution_count": null,
      "outputs": []
    },
    {
      "cell_type": "code",
      "execution_count": null,
      "metadata": {
        "id": "7XyNhfesVSJ1"
      },
      "outputs": [],
      "source": [
        "scraped_links = []\n",
        "titles = []\n",
        "counter = 0\n",
        "base_url = \"https://www.news247.gr/loatki?pages=\"\n",
        "for i in range(1,20):\n",
        "    url = base_url + str(i)\n",
        "    #print(url)\n",
        "    page = requests.get(url, headers = headers)\n",
        "    s = BeautifulSoup(page.content, 'html.parser')\n",
        "    #print(s)\n",
        "    links = s.select(\"h2 a\")\n",
        "    links = set(links)\n",
        "    \n",
        "    url = [link['href'] for link in links]\n",
        "    \n",
        "    #title = [link.text for link in links]\n",
        "    \n",
        "    \n",
        "    print(url)\n",
        "\n",
        "    for l in url:\n",
        "        link = l\n",
        "        print(l)\n",
        "        scraped_links.append(l)\n",
        "\n",
        "\n",
        "    \n",
        "    # Τυπώνει το νούμερο των links που είναι scraped\n",
        "print(len(scraped_links)) \n",
        "\n",
        "loatki_links = (set(scraped_links))"
      ]
    },
    {
      "cell_type": "code",
      "execution_count": null,
      "metadata": {
        "id": "p67n-OQGVlfL"
      },
      "outputs": [],
      "source": [
        "scraped_links"
      ]
    },
    {
      "cell_type": "code",
      "execution_count": null,
      "metadata": {
        "id": "A_aVQgTjVl_I"
      },
      "outputs": [],
      "source": [
        "len(scraped_links)"
      ]
    },
    {
      "cell_type": "code",
      "execution_count": null,
      "metadata": {
        "id": "TtsWcV4igfA6"
      },
      "outputs": [],
      "source": [
        "import pandas as pd\n",
        "df = pd.DataFrame(scraped_links, columns= ['url'])"
      ]
    },
    {
      "cell_type": "code",
      "execution_count": null,
      "metadata": {
        "id": "P_IzUCQHg9sf"
      },
      "outputs": [],
      "source": [
        "loatki = pd.DataFrame(loatki_links, columns= ['url'])"
      ]
    },
    {
      "cell_type": "code",
      "execution_count": null,
      "metadata": {
        "id": "qzYSbZgOhCEV"
      },
      "outputs": [],
      "source": [
        "loatki.to_csv(\"loatki.csv\", index=False)\n",
        "loatki = pd.read_csv('loatki.csv')\n",
        "loatki"
      ]
    },
    {
      "cell_type": "code",
      "execution_count": null,
      "metadata": {
        "id": "QnZKzRfXhV9f"
      },
      "outputs": [],
      "source": [
        "urls = loatki['url'].tolist()\n",
        "urls[0:100]"
      ]
    },
    {
      "cell_type": "code",
      "execution_count": null,
      "metadata": {
        "id": "1NlMuusbhaHu"
      },
      "outputs": [],
      "source": [
        "len(urls)"
      ]
    },
    {
      "cell_type": "code",
      "execution_count": null,
      "metadata": {
        "id": "YsptVyzThc7A"
      },
      "outputs": [],
      "source": [
        "response = requests.get(\"https://www.news247.gr/loatki\", headers=headers)\n",
        "\n",
        "doc = BeautifulSoup(response.text)"
      ]
    },
    {
      "cell_type": "code",
      "execution_count": null,
      "metadata": {
        "id": "IkuPMJkwhfUD"
      },
      "outputs": [],
      "source": [
        "from urllib.request import urlopen, Request\n",
        "from bs4 import BeautifulSoup\n",
        "%matplotlib inline\n",
        "import pandas as pd\n",
        "import matplotlib.pyplot as plt\n",
        "import matplotlib\n",
        "matplotlib.rcParams['pdf.fonttype'] = 42\n",
        "import numpy as np"
      ]
    },
    {
      "cell_type": "code",
      "execution_count": null,
      "metadata": {
        "id": "vA8ISoKrhhjA"
      },
      "outputs": [],
      "source": [
        "loatki = pd.DataFrame(columns = ['Title', 'created_at', 'URL', 'text', 'hashtags', 'About_URL', ])"
      ]
    },
    {
      "cell_type": "code",
      "execution_count": null,
      "metadata": {
        "id": "dcp36vR9hlH-"
      },
      "outputs": [],
      "source": [
        "loatki"
      ]
    },
    {
      "cell_type": "code",
      "execution_count": null,
      "metadata": {
        "id": "acpuJRG3hl61"
      },
      "outputs": [],
      "source": [
        "titles = []#check\n",
        "links = []#check\n",
        "authors = [] # authors don't exist\n",
        "dates = []#check\n",
        "descs = []#check\n",
        "hashtags = []#check\n",
        "abouts_URL = []#check\n",
        "\n",
        "\n",
        "for i in range(1,20):\n",
        "  my_url = 'https://www.news247.gr/loatki?pages='+str(i)\n",
        "  req = Request(my_url,headers={'User-Agent': 'Mozilla/5.0'})\n",
        "  # print(my_url)\n",
        "  raw_html = urlopen(req).read()\n",
        "  news = BeautifulSoup(raw_html, \"html.parser\")\n",
        "\n",
        "\n",
        "  titles_soup = news.find_all(\"h2\", {\"class\": \"article__title bold\"})\n",
        "\n",
        "  # links = news.find_all(\"h2\", {\"class\": \"article__title bold\"})\n",
        "  for title in titles_soup:\n",
        "    links.append(title.find('a')['href'])\n",
        "    titles.append((title.text).replace('\\n',''))\n",
        "\n",
        "  abouts_soup = news.find_all(\"div\", {\"class\": \"article__summary\"})\n",
        "  for about in abouts_soup:\n",
        "    info = (about.text).splitlines()\n",
        "    # print(info)\n",
        "    hashtags.append(info[1])\n",
        "\n",
        "    descs.append(info[2])\n",
        "\n",
        "    dates.append(info[3])\n",
        "\n",
        "    abouts_URL.append(about.find('a')['href'])\n",
        "\n",
        "print(len(titles))\n",
        "print(len(links))\n",
        "print(len(dates))\n",
        "print(len(descs))\n",
        "print(len(hashtags))\n",
        "print(len(abouts_URL))"
      ]
    },
    {
      "cell_type": "code",
      "execution_count": null,
      "metadata": {
        "id": "pGwueoZ5hqTX"
      },
      "outputs": [],
      "source": [
        "for i in range(0, len(titles)):\n",
        "  loatki = loatki.append({'Title' : titles[i], 'created_at' : dates[i], 'URL' : links[i], 'text' : descs[i], 'hashtags' : hashtags[i], 'About_URL' : abouts_URL[i]}, ignore_index=True)"
      ]
    },
    {
      "cell_type": "code",
      "execution_count": null,
      "metadata": {
        "id": "ix2fkp7EiGVZ"
      },
      "outputs": [],
      "source": [
        "loatki"
      ]
    },
    {
      "cell_type": "code",
      "execution_count": null,
      "metadata": {
        "id": "we8AV1_ciMAL"
      },
      "outputs": [],
      "source": [
        "loatki.dtypes"
      ]
    },
    {
      "cell_type": "code",
      "execution_count": null,
      "metadata": {
        "id": "-joeu9RYiPxm"
      },
      "outputs": [],
      "source": [
        "loatki_doc = loatki[['Title','created_at', 'URL', 'text', 'hashtags' ]]\n",
        "loatki_doc"
      ]
    },
    {
      "cell_type": "code",
      "execution_count": null,
      "metadata": {
        "id": "ypMAiEQbiVN1"
      },
      "outputs": [],
      "source": [
        "loatki_doc['Year'] = loatki_doc.created_at.apply(lambda dt: dt.split(' ')[2])\n",
        "loatki_doc['Month'] = loatki_doc.created_at.apply(lambda dt: dt.split(' ')[1])\n",
        "loatki_doc['Day'] = loatki_doc.created_at.apply(lambda dt: dt.split(' ')[0])\n",
        "loatki_doc['Time'] = loatki_doc.created_at.apply(lambda dt: dt.split(' ')[3])\n",
        "\n",
        "months = {\n",
        "    'Ιανουαρίου' : '01',\n",
        "    'Φεβρουαρίου' : '02', \n",
        "    'Μαρτίου' : '03',\n",
        "    'Απριλίου' : '04',\n",
        "    'Μαΐου' : '05',\n",
        "    'Ιουνίου': '06',\n",
        "    'Ιουλίου' : '07',\n",
        "    'Αυγούστου' : '08',\n",
        "    'Σεπτεμβρίου' : '09',\n",
        "    'Οκτωβρίου' : '10',\n",
        "    'Νοεμβρίου' : '11',\n",
        "    'Δεκεμβρίου' : '12',\n",
        "     \n",
        "}\n",
        "\n",
        "loatki_doc['Date'] = loatki_doc.apply(lambda row: f'{months[row.Month]}/{row.Day}/{row.Year} {row.Time}', axis='columns',result_type='expand')\n",
        "loatki_doc['Date'] = pd.to_datetime(loatki_doc['Date'])\n",
        "\n",
        "\n",
        "loatki_doc"
      ]
    },
    {
      "cell_type": "code",
      "execution_count": null,
      "metadata": {
        "id": "oxYDtImQzxkS"
      },
      "outputs": [],
      "source": [
        "loatki_doc.info() #den exw adeia kelia "
      ]
    },
    {
      "cell_type": "code",
      "execution_count": null,
      "metadata": {
        "id": "Z0uZU7VaimCu"
      },
      "outputs": [],
      "source": [
        "loatki_doc.dtypes"
      ]
    },
    {
      "cell_type": "code",
      "execution_count": null,
      "metadata": {
        "id": "kfuQg_cTi6hR"
      },
      "outputs": [],
      "source": [
        "from google.colab import drive\n",
        "drive.mount('/content/gdrive')"
      ]
    },
    {
      "cell_type": "code",
      "execution_count": null,
      "metadata": {
        "id": "hhN1bbxSjsCj"
      },
      "outputs": [],
      "source": [
        "loatki_doc.to_csv(\"/content/gdrive/My Drive/Colab Notebooks/loatki.tsv\", sep='\\t')"
      ]
    },
    {
      "cell_type": "markdown",
      "metadata": {
        "id": "bBctQqDmloPS"
      },
      "source": [
        "## 3. Καθάρισμα/Γραφήματα"
      ]
    },
    {
      "cell_type": "code",
      "execution_count": null,
      "metadata": {
        "id": "3ksNxs83lsRC"
      },
      "outputs": [],
      "source": [
        "loatki_doc.dtypes"
      ]
    },
    {
      "cell_type": "code",
      "execution_count": null,
      "metadata": {
        "id": "-2r_xWs6o4BZ"
      },
      "outputs": [],
      "source": [
        "tags = loatki_doc.groupby(['hashtags']).count()['Title'].sort_values(ascending=False)\n",
        "\n",
        "\n",
        "Day_data = loatki_doc.groupby(['Day']).count()['Title']\n",
        "(Day_data,tags)"
      ]
    },
    {
      "cell_type": "code",
      "source": [
        "loatki_doc['text'] = loatki_doc['text'].str.lower()\n",
        "loatki_doc['text'][5]"
      ],
      "metadata": {
        "id": "6VcIkieYJE35"
      },
      "execution_count": null,
      "outputs": []
    },
    {
      "cell_type": "code",
      "source": [
        "loatki_doc.dtypes"
      ],
      "metadata": {
        "id": "T2LhnlE3JSBf"
      },
      "execution_count": null,
      "outputs": []
    },
    {
      "cell_type": "code",
      "source": [
        "#loatki_doc['Year'] = loatki_doc['Year'].astype(np.int64)\n",
        "#loatki_doc['Month'] = loatki_doc['Month'].astype(np.int64)\n",
        "#loatki_doc['Day'] = loatki_doc['Day'].astype(np.int64)"
      ],
      "metadata": {
        "id": "1-BOT8701PCy"
      },
      "execution_count": null,
      "outputs": []
    },
    {
      "cell_type": "code",
      "source": [
        "loatki_doc['text'].tail(5)"
      ],
      "metadata": {
        "id": "laaRnjoTKeyU"
      },
      "execution_count": null,
      "outputs": []
    },
    {
      "cell_type": "code",
      "source": [
        "loatki_doc['text'] = loatki_doc['text'].str.replace(r'[\\n]*\\s*https?:\\/\\/.*[\\r\\n]*',\" \").str.replace(r'\\n*',\"\").str.replace(r'[▪️🟢⚪👉]*',\"\").str.replace(r\"\\w\\/\\w\", \"\")\n",
        "loatki_doc['text'] = loatki_doc['text'].str.replace('amp;', '').str.replace(r'[\\!\\-\\:\\,\\.«»\\\"“”\\[–()&]',\" \").str.replace('&gt;', ' ').str.replace(r\"\\s\\s\\s?\", ' ')\n",
        "loatki_doc['text'] = loatki_doc['text'].str.replace(r\"\\w*…\", \"\")\n",
        "\n"
      ],
      "metadata": {
        "id": "zycIU0ptKD50"
      },
      "execution_count": null,
      "outputs": []
    },
    {
      "cell_type": "code",
      "source": [
        "loatki_doc['text'].tail(5)"
      ],
      "metadata": {
        "id": "4m8oQTqgLZAw"
      },
      "execution_count": null,
      "outputs": []
    },
    {
      "cell_type": "code",
      "execution_count": null,
      "metadata": {
        "id": "0MYBPADr54Sl"
      },
      "outputs": [],
      "source": [
        "plt.figure(figsize=(30,10))\n",
        "plt.bar(tags.keys(),tags)\n",
        "plt.show()\n",
        "\n",
        "plt.figure(figsize=(30,10))\n",
        "plt.bar(Day_data.keys(),Day_data)\n",
        "plt.show()"
      ]
    },
    {
      "cell_type": "code",
      "source": [
        "loatki_doc['hashtags'].value_counts().head(10)"
      ],
      "metadata": {
        "id": "RQVD7tF3eH84"
      },
      "execution_count": null,
      "outputs": []
    },
    {
      "cell_type": "code",
      "source": [
        "%matplotlib inline\n",
        "loatki_doc['hashtags'].value_counts().head(10).sort_values().plot(kind='barh')"
      ],
      "metadata": {
        "id": "aGpqiYyreZX6"
      },
      "execution_count": null,
      "outputs": []
    },
    {
      "cell_type": "code",
      "execution_count": null,
      "metadata": {
        "id": "8iVIk-oyvGO6"
      },
      "outputs": [],
      "source": [
        "pd.to_datetime(loatki_doc['Date']).dt.dayofweek "
      ]
    },
    {
      "cell_type": "code",
      "source": [
        "loatki_doc.set_index('Date' , inplace=True)\n"
      ],
      "metadata": {
        "id": "B6hcr8njjfRc"
      },
      "execution_count": null,
      "outputs": []
    },
    {
      "cell_type": "code",
      "source": [
        "loatki_doc.index"
      ],
      "metadata": {
        "id": "fhgIEHUO3qM7"
      },
      "execution_count": null,
      "outputs": []
    },
    {
      "cell_type": "code",
      "execution_count": null,
      "metadata": {
        "id": "M89dTUVT22cH"
      },
      "outputs": [],
      "source": [
        "loatki_doc['dayofweek']=pd.to_datetime(loatki_doc.index).dayofweek"
      ]
    },
    {
      "cell_type": "code",
      "execution_count": null,
      "metadata": {
        "id": "NsT3MLZO3ydF"
      },
      "outputs": [],
      "source": [
        "day_of_week = loatki_doc.groupby(['dayofweek']).count()['Title'].sort_values(ascending=False)\n"
      ]
    },
    {
      "cell_type": "code",
      "execution_count": null,
      "metadata": {
        "id": "AM9qny_XLF0h"
      },
      "outputs": [],
      "source": [
        "day_of_week #ποιες μερες της εβδομάδας κάνουν τα περοσσότερα ποστ"
      ]
    },
    {
      "cell_type": "code",
      "execution_count": null,
      "metadata": {
        "id": "sLSRJM9-4EQ2"
      },
      "outputs": [],
      "source": [
        "day_of_week.plot(kind='bar')"
      ]
    },
    {
      "cell_type": "code",
      "source": [
        "loatki_doc.dtypes"
      ],
      "metadata": {
        "id": "b5WI78Z408ru"
      },
      "execution_count": null,
      "outputs": []
    },
    {
      "cell_type": "code",
      "source": [
        "from collections import Counter\n",
        "from nltk.util import ngrams\n",
        "from sklearn.feature_extraction.text import CountVectorizer"
      ],
      "metadata": {
        "id": "PTQMuQZBHyg9"
      },
      "execution_count": null,
      "outputs": []
    },
    {
      "cell_type": "code",
      "source": [
        "import nltk\n",
        "nltk.download('stopwords')"
      ],
      "metadata": {
        "id": "RhzgFzvF91u6"
      },
      "execution_count": null,
      "outputs": []
    },
    {
      "cell_type": "code",
      "source": [
        "from nltk.corpus import stopwords"
      ],
      "metadata": {
        "id": "Vy7TsroIF3ri"
      },
      "execution_count": null,
      "outputs": []
    },
    {
      "cell_type": "code",
      "source": [
        "from wordcloud import WordCloud, STOPWORDS, ImageColorGenerator"
      ],
      "metadata": {
        "id": "x-tvBgxYGtwz"
      },
      "execution_count": null,
      "outputs": []
    },
    {
      "cell_type": "code",
      "source": [
        "for token in doc:\n",
        "    print(token, token.lemma_)"
      ],
      "metadata": {
        "id": "tEbTPw-KLtlO"
      },
      "execution_count": null,
      "outputs": []
    },
    {
      "cell_type": "code",
      "source": [
        "' '.join(token.lemma_ for token in doc)"
      ],
      "metadata": {
        "id": "G9TXJoySLxiq"
      },
      "execution_count": null,
      "outputs": []
    },
    {
      "cell_type": "markdown",
      "source": [
        "## wordcloud"
      ],
      "metadata": {
        "id": "aXA7jScoMKXh"
      }
    },
    {
      "cell_type": "code",
      "execution_count": null,
      "metadata": {
        "id": "q3m5HIfwMcDR"
      },
      "outputs": [],
      "source": [
        "from wordcloud import WordCloud, STOPWORDS\n",
        "import matplotlib.pyplot as plt"
      ]
    },
    {
      "cell_type": "code",
      "source": [
        "import spacy"
      ],
      "metadata": {
        "id": "c-DxXacyaAB7"
      },
      "execution_count": null,
      "outputs": []
    },
    {
      "cell_type": "code",
      "execution_count": null,
      "metadata": {
        "id": "m5airl8COgSF"
      },
      "outputs": [],
      "source": [
        "!python3 -m spacy download el_core_news_sm"
      ]
    },
    {
      "cell_type": "code",
      "execution_count": null,
      "metadata": {
        "id": "o_XzAoL0TjUX"
      },
      "outputs": [],
      "source": [
        "nlp = spacy.load(\"el_core_news_sm\")"
      ]
    },
    {
      "cell_type": "code",
      "source": [
        "doc = nlp(loatki['text'][1])"
      ],
      "metadata": {
        "id": "vHNXm7rlLoMI"
      },
      "execution_count": null,
      "outputs": []
    },
    {
      "cell_type": "code",
      "execution_count": null,
      "metadata": {
        "id": "05Tzk0cDTord"
      },
      "outputs": [],
      "source": [
        "list(nlp.Defaults.stop_words)[0:20]"
      ]
    },
    {
      "cell_type": "code",
      "source": [
        "text = loatki_doc.text\n",
        "stop = stopwords.words('greek')\n",
        "stop = stop + ['το', 'ή', 'και','αλλά', 'τη', 'την', 'ο', 'ένα', 'να', 'της', 'όταν', 'με', 'γι', 'τους', 'object', 'με', 'για', 'αλλά', 'αν', 'αλλά', 'δε', 'δεν', 'των', 'ότι','πως']\n",
        "\n",
        "# Word cloud image:\n",
        "wordcloud = WordCloud(stopwords=stop, width = 2000, height = 1000, background_color = 'white').generate(str(text))\n",
        "\n",
        "fig = plt.figure( figsize = (40, 30), facecolor = 'k', edgecolor = 'k')\n",
        "\n",
        "plt.imshow(wordcloud, interpolation='bilinear')\n",
        "plt.axis(\"off\")\n",
        "plt.show()"
      ],
      "metadata": {
        "id": "bQtCRQdsMb2D"
      },
      "execution_count": null,
      "outputs": []
    },
    {
      "cell_type": "code",
      "source": [
        ""
      ],
      "metadata": {
        "id": "RAEvGemQW5G1"
      },
      "execution_count": null,
      "outputs": []
    },
    {
      "cell_type": "code",
      "source": [
        "\n",
        "word_count = Counter(\" \".join(loatki_doc[\"text\"]).split())\n",
        "word_count = {word.lower() : count for word, count in word_count.items() if not word.lower() in stop}\n",
        "word_count = pd.DataFrame(data={\n",
        "    'word': word_count.keys(),\n",
        "    'count': word_count.values()\n",
        "})\n",
        "\n",
        "word_count.sort_values('count',ascending=False).head(15)"
      ],
      "metadata": {
        "id": "vYGiGoLtvoT_"
      },
      "execution_count": null,
      "outputs": []
    },
    {
      "cell_type": "code",
      "source": [
        "#diades leksewn\n",
        "cv2 = CountVectorizer( stop_words= nlp.Defaults.stop_words, max_features=20, ngram_range=(2, 2) ) #token_pattern = '\\\\bκυ[α-ωά-ώ]*\\\\b') #, tokenizer=my_tokenizer)\n",
        "count_vector2 = cv2.fit_transform(loatki_doc['text'])\n",
        "results2 = pd.DataFrame(count_vector2.toarray(), columns=cv2.get_feature_names()) \n",
        "results2.head()"
      ],
      "metadata": {
        "id": "B06pvW68Nq_s"
      },
      "execution_count": null,
      "outputs": []
    },
    {
      "cell_type": "markdown",
      "source": [
        "## 15 συχνότερες λέξεις"
      ],
      "metadata": {
        "id": "jwOUSXrTPVyd"
      }
    },
    {
      "cell_type": "code",
      "source": [
        "from sklearn.feature_extraction.text import CountVectorizer\n",
        "cv = CountVectorizer()"
      ],
      "metadata": {
        "id": "Jg59nuqCPb4Y"
      },
      "execution_count": null,
      "outputs": []
    },
    {
      "cell_type": "code",
      "source": [
        "count_vector = cv.fit_transform(loatki_doc['text'])"
      ],
      "metadata": {
        "id": "XyPwXXCSPhCX"
      },
      "execution_count": null,
      "outputs": []
    },
    {
      "cell_type": "code",
      "source": [
        "count_vector.shape"
      ],
      "metadata": {
        "id": "AmG36nBaPmd-"
      },
      "execution_count": null,
      "outputs": []
    },
    {
      "cell_type": "code",
      "source": [
        "results = pd.DataFrame(count_vector.toarray(), columns=cv.get_feature_names()) \n",
        "\n",
        "results.head()"
      ],
      "metadata": {
        "id": "NDvTyIkHPqKR"
      },
      "execution_count": null,
      "outputs": []
    },
    {
      "cell_type": "code",
      "source": [
        "cv.vocabulary"
      ],
      "metadata": {
        "id": "GY6wjvdHPtoN"
      },
      "execution_count": null,
      "outputs": []
    },
    {
      "cell_type": "code",
      "source": [
        "cv = CountVectorizer(stop_words= nlp.Defaults.stop_words, min_df=0.01, max_df=0.95)"
      ],
      "metadata": {
        "id": "G3W5Ni6PPxGu"
      },
      "execution_count": null,
      "outputs": []
    },
    {
      "cell_type": "code",
      "source": [
        "count_vector = cv.fit_transform(loatki_doc['text'])"
      ],
      "metadata": {
        "id": "ELH_uu2gP0J9"
      },
      "execution_count": null,
      "outputs": []
    },
    {
      "cell_type": "code",
      "source": [
        "results = pd.DataFrame(count_vector.toarray(), columns=cv.get_feature_names()) \n",
        "results.head()"
      ],
      "metadata": {
        "id": "L37lFmSNP5Wd"
      },
      "execution_count": null,
      "outputs": []
    },
    {
      "cell_type": "code",
      "source": [
        "from html import unescape\n",
        "def my_tokenizer(doc):\n",
        "            \n",
        "    # apply the preprocessing and tokenzation steps\n",
        "    doc_clean = unescape(doc).lower()\n",
        "    tokens = nlp(doc_clean)\n",
        "    lemmatized_tokens = [token.lemma_ for token in tokens if (len(str(token.lemma_))>2)]\n",
        "            \n",
        "    # use CountVectorizer's _word_ngrams built in method\n",
        "    # to remove stop words and extract n-grams\n",
        "    return(lemmatized_tokens)"
      ],
      "metadata": {
        "id": "pyMozg6rP8rc"
      },
      "execution_count": null,
      "outputs": []
    },
    {
      "cell_type": "code",
      "source": [
        "cv = CountVectorizer(stop_words= nlp.Defaults.stop_words, min_df=0.01, max_df=0.95, tokenizer=my_tokenizer)\n",
        "count_vector = cv.fit_transform(loatki_doc['text'])\n",
        "results = pd.DataFrame(count_vector.toarray(), columns=cv.get_feature_names()) \n",
        "results.head()"
      ],
      "metadata": {
        "id": "1hlDvWmHQBfg"
      },
      "execution_count": null,
      "outputs": []
    },
    {
      "cell_type": "code",
      "source": [
        "cv = CountVectorizer( stop_words= nlp.Defaults.stop_words, max_features=20) #, tokenizer=my_tokenizer)\n",
        "count_vector = cv.fit_transform(loatki_doc['text'])\n",
        "results = pd.DataFrame(count_vector.toarray(), columns=cv.get_feature_names()) \n",
        "results.head()"
      ],
      "metadata": {
        "id": "TBGRI7_TQJgz"
      },
      "execution_count": null,
      "outputs": []
    },
    {
      "cell_type": "code",
      "source": [
        "sum_words =  results.sum(axis =0)\n",
        "sum_words.sort_values(ascending = False).head(15) "
      ],
      "metadata": {
        "id": "S5_qrj0UQPEQ"
      },
      "execution_count": null,
      "outputs": []
    },
    {
      "cell_type": "code",
      "source": [
        "cv2 = CountVectorizer( stop_words= nlp.Defaults.stop_words, max_features=20, ngram_range=(2, 2) ) #token_pattern = '\\\\bκυ[α-ωά-ώ]*\\\\b') #, tokenizer=my_tokenizer)\n",
        "count_vector2 = cv2.fit_transform(loatki_doc['text'])\n",
        "results2 = pd.DataFrame(count_vector2.toarray(), columns=cv2.get_feature_names()) \n",
        "results2.head()"
      ],
      "metadata": {
        "id": "mzaI-WysQWKv"
      },
      "execution_count": null,
      "outputs": []
    },
    {
      "cell_type": "code",
      "source": [
        "#oisixnoteres diades leksewn\n",
        "sum_words2 =  results2.sum(axis =0)\n",
        "sum_words2.sort_values(ascending = False).head(15) "
      ],
      "metadata": {
        "id": "tePjlw5iN4D5"
      },
      "execution_count": null,
      "outputs": []
    },
    {
      "cell_type": "code",
      "source": [
        "w = sum_words.sort_values(ascending = False).head(15).plot(kind='bar')\n",
        "w.spines['right'].set_visible(False)\n",
        "w.spines['top'].set_visible(False)\n",
        "w.set_title('15 πιο συχνές λέξεις στο θέμα λοατκι')"
      ],
      "metadata": {
        "id": "Bu2OOdnfOGlQ"
      },
      "execution_count": null,
      "outputs": []
    },
    {
      "cell_type": "code",
      "source": [
        "w2 = sum_words2.sort_values(ascending = True).tail(15).plot(kind='barh', color='red')\n",
        "w2.spines['right'].set_visible(False)\n",
        "w2.spines['top'].set_visible(False)\n",
        "w2.set_title('15 πιο συχνές δυάδες λέξεων στο θέμα ΛΟΑΤΚΙ')"
      ],
      "metadata": {
        "id": "TIhfz6RaQk6y"
      },
      "execution_count": null,
      "outputs": []
    },
    {
      "cell_type": "code",
      "source": [
        "loatki_doc.groupby('Month')['Title'].count().plot(kind='bar',figsize=(10,7), color='tab:red',title=\"άρθρα ανά μήνα\")"
      ],
      "metadata": {
        "id": "AniSW-jVWBP0"
      },
      "execution_count": null,
      "outputs": []
    },
    {
      "cell_type": "code",
      "execution_count": null,
      "metadata": {
        "id": "tm93sCwaT34T"
      },
      "outputs": [],
      "source": [
        "loatki_doc.resample(rule='D').count()"
      ]
    },
    {
      "cell_type": "code",
      "source": [
        "loatki_doc['Title'].groupby(loatki_doc['Year']).count()"
      ],
      "metadata": {
        "id": "AG-14wPhWX0-"
      },
      "execution_count": null,
      "outputs": []
    },
    {
      "cell_type": "code",
      "source": [
        ""
      ],
      "metadata": {
        "id": "qoXy1DmsW3Du"
      },
      "execution_count": null,
      "outputs": []
    },
    {
      "cell_type": "markdown",
      "source": [
        "## sentiment analysis"
      ],
      "metadata": {
        "id": "K5NIm3mdImpQ"
      }
    },
    {
      "cell_type": "code",
      "source": [
        "import glob\n",
        "from sklearn.feature_extraction.text import CountVectorizer"
      ],
      "metadata": {
        "id": "mTTvHcX9RDff"
      },
      "execution_count": null,
      "outputs": []
    },
    {
      "cell_type": "code",
      "source": [
        "filepath = \"https://raw.githubusercontent.com/datajour-gr/Data_journalism/master/week10/NRC_GREEK_Translated_6_2020.csv\"\n",
        "emolex_df = pd.read_csv(filepath)\n",
        "emolex_df = emolex_df.drop_duplicates(subset=['word'])\n",
        "emolex_df = emolex_df.dropna()\n",
        "emolex_df.reset_index(inplace = True)\n",
        "emolex_df.tail(15)"
      ],
      "metadata": {
        "id": "rT_IkaT78nRD"
      },
      "execution_count": null,
      "outputs": []
    },
    {
      "cell_type": "code",
      "source": [
        "vec = CountVectorizer(analyzer = 'word', vocabulary = emolex_df.word, \n",
        "                      strip_accents = 'unicode',  \n",
        "                      stop_words= nlp.Defaults.stop_words,\n",
        "                      ngram_range=(1, 2))"
      ],
      "metadata": {
        "id": "QyW1yYjsRNpc"
      },
      "execution_count": null,
      "outputs": []
    },
    {
      "cell_type": "code",
      "source": [
        "#για να ελεγξω μόνο τις λέξεις που υπάρχουν στο συναισθηματικό λεξικό \n",
        "matrix = vec.fit_transform(loatki_doc['text'])\n",
        "vocab = vec.get_feature_names()\n",
        "wordcount_df = pd.DataFrame(matrix.toarray(), columns=vocab)\n",
        "wordcount_df.head()"
      ],
      "metadata": {
        "id": "PjEwN7XcRN_5"
      },
      "execution_count": null,
      "outputs": []
    },
    {
      "cell_type": "code",
      "source": [
        "len(wordcount_df)"
      ],
      "metadata": {
        "id": "yuH44XjN6WNg"
      },
      "execution_count": null,
      "outputs": []
    },
    {
      "cell_type": "code",
      "source": [
        ""
      ],
      "metadata": {
        "id": "nd-akIdF7Ah1"
      },
      "execution_count": null,
      "outputs": []
    },
    {
      "cell_type": "code",
      "source": [
        "# anger words\n",
        "angry_words = emolex_df[emolex_df.Anger == 1]['word']\n",
        "\n",
        "\n",
        "# positive words\n",
        "positive_words = emolex_df[emolex_df.Positive == 1]['word']\n",
        "\n",
        "\n",
        "# sadness words\n",
        "sadness_words = emolex_df[emolex_df.Sadness == 1]['word']\n",
        "\n",
        "\n",
        "# surprise words\n",
        "surprise_words = emolex_df[emolex_df.Surprise == 1]['word']\n",
        "\n",
        "\n",
        "# disgust words\n",
        "disgust_words = emolex_df[emolex_df.Disgust == 1]['word']\n",
        "\n",
        "\n",
        "# anticipation words\n",
        "anticipation_words = emolex_df[emolex_df.Anticipation == 1]['word']\n",
        "\n",
        "\n",
        "# negative words\n",
        "negative_words = emolex_df[emolex_df.Negative == 1]['word']\n",
        "\n",
        "\n",
        "# joy words\n",
        "joy_words = emolex_df[emolex_df.Joy == 1]['word']\n",
        "\n",
        "\n",
        "# trust words\n",
        "trust_words = emolex_df[emolex_df.Trust == 1]['word']\n",
        "\n",
        "\n",
        "# fear words\n",
        "fear_words = emolex_df[emolex_df.Fear == 1]['word']"
      ],
      "metadata": {
        "id": "xLKqfI70yeSq"
      },
      "execution_count": null,
      "outputs": []
    },
    {
      "cell_type": "code",
      "source": [
        "wordcount_df.shape"
      ],
      "metadata": {
        "id": "fHN7AXJ6RSJ5"
      },
      "execution_count": null,
      "outputs": []
    },
    {
      "cell_type": "code",
      "source": [
        "df = df.replace(np.nan, '0')"
      ],
      "metadata": {
        "id": "OFm88EKMd5RG"
      },
      "execution_count": null,
      "outputs": []
    },
    {
      "cell_type": "code",
      "source": [
        "emolex_df.head()"
      ],
      "metadata": {
        "id": "NGg0DI1bRV_h"
      },
      "execution_count": null,
      "outputs": []
    },
    {
      "cell_type": "code",
      "source": [
        "emolex_df[emolex_df.Anger == 1].tail()"
      ],
      "metadata": {
        "id": "720XyvGWRleL"
      },
      "execution_count": null,
      "outputs": []
    },
    {
      "cell_type": "code",
      "source": [
        ""
      ],
      "metadata": {
        "id": "iSKppNJBeE1q"
      },
      "execution_count": null,
      "outputs": []
    },
    {
      "cell_type": "code",
      "source": [
        "angry_words = emolex_df[emolex_df.Anger == 1]['word']\n",
        "positive_words = emolex_df[emolex_df.Positive == 1]['word']\n",
        "sadness_words = emolex_df[emolex_df.Sadness == 1]['word']\n",
        "surprise_words = emolex_df[emolex_df.Surprise == 1]['word']\n",
        "disgust_words = emolex_df[emolex_df.Disgust == 1]['word']\n",
        "anticipation_words = emolex_df[emolex_df.Anticipation == 1]['word']\n",
        "negative_words = emolex_df[emolex_df.Negative == 1]['word']\n",
        "joy_words = emolex_df[emolex_df.Joy == 1]['word']\n",
        "trust_words = emolex_df[emolex_df.Trust == 1]['word']\n",
        "fear_words = emolex_df[emolex_df.Fear == 1]['word']"
      ],
      "metadata": {
        "id": "bH5i2bCrRoSK"
      },
      "execution_count": null,
      "outputs": []
    },
    {
      "cell_type": "code",
      "source": [
        "wordcount_df"
      ],
      "metadata": {
        "id": "8LI1xgS251AS"
      },
      "execution_count": null,
      "outputs": []
    },
    {
      "cell_type": "code",
      "source": [
        "loatki_doc['anger'] = np.array(wordcount_df[angry_words].sum(axis=1))\n",
        "loatki_doc['positivity'] = np.array(wordcount_df[positive_words].sum(axis=1))\n",
        "loatki_doc['joy'] = np.array(wordcount_df[joy_words].sum(axis=1))\n",
        "loatki_doc['disgust'] = np.array(wordcount_df[disgust_words].sum(axis=1))\n",
        "loatki_doc['surprise'] = np.array(wordcount_df[surprise_words].sum(axis=1))\n",
        "loatki_doc['trust'] = np.array(wordcount_df[trust_words].sum(axis=1))\n",
        "loatki_doc['anticipation'] = np.array(wordcount_df[anticipation_words].sum(axis=1))\n",
        "loatki_doc['sadness'] = np.array(wordcount_df[sadness_words].sum(axis=1))\n",
        "loatki_doc['negative'] = np.array(wordcount_df[negative_words].sum(axis=1))\n",
        "loatki_doc['fear'] = np.array(wordcount_df[fear_words].sum(axis=1))\n",
        "loatki_doc"
      ],
      "metadata": {
        "id": "XdtDSB_4Rrg3"
      },
      "execution_count": null,
      "outputs": []
    },
    {
      "cell_type": "code",
      "source": [
        ""
      ],
      "metadata": {
        "id": "YFmDmSsp7pcz"
      },
      "execution_count": null,
      "outputs": []
    },
    {
      "cell_type": "code",
      "source": [
        ""
      ],
      "metadata": {
        "id": "THyEKKOU8dfj"
      },
      "execution_count": null,
      "outputs": []
    },
    {
      "cell_type": "code",
      "source": [
        "wordcount_df[joy_words].sum(axis=1)"
      ],
      "metadata": {
        "id": "ZSv25Mwx8k2r"
      },
      "execution_count": null,
      "outputs": []
    },
    {
      "cell_type": "code",
      "source": [
        "loatki_doc.dtypes"
      ],
      "metadata": {
        "id": "L6Ev9X-Ay1yH"
      },
      "execution_count": null,
      "outputs": []
    },
    {
      "cell_type": "code",
      "source": [
        "loatki_doc['positivity'].sum() #Βαθμος θετικότητας στα συλλεγμένα tweets"
      ],
      "metadata": {
        "id": "uAY-SZAVR1TU"
      },
      "execution_count": null,
      "outputs": []
    },
    {
      "cell_type": "code",
      "source": [
        "loatki_doc['negative'].sum() #βαθμός αρνητικότητας στα συλλεγμένα tweets"
      ],
      "metadata": {
        "id": "rjaOn7ftR5A-"
      },
      "execution_count": null,
      "outputs": []
    },
    {
      "cell_type": "code",
      "source": [
        "emotions = loatki_doc.resample(rule='D').sum()\n",
        "emotions.head()"
      ],
      "metadata": {
        "id": "7r813ITTVR4f"
      },
      "execution_count": null,
      "outputs": []
    },
    {
      "cell_type": "code",
      "source": [
        "loatki_doc.set_index('created_at' , inplace=True) #Βάζουμε ως index το date"
      ],
      "metadata": {
        "id": "nzf2BLCaSGhD"
      },
      "execution_count": null,
      "outputs": []
    },
    {
      "cell_type": "code",
      "source": [
        "emotions[['anger','sadness','negative','fear']].sum().plot() #αρχικά για τα αρνητικά"
      ],
      "metadata": {
        "id": "pRv5Uu5bSND3"
      },
      "execution_count": null,
      "outputs": []
    },
    {
      "cell_type": "code",
      "source": [
        "emotions[['positivity','joy','trust','surprise','anticipation']].sum().plot() #αρχικά για τα αρνητικά"
      ],
      "metadata": {
        "id": "5LslvcQXSTww"
      },
      "execution_count": null,
      "outputs": []
    },
    {
      "cell_type": "code",
      "source": [
        "loatki_doc['text'].str.len().groupby(by=loatki_doc.index).mean().plot() "
      ],
      "metadata": {
        "id": "OOgGpgz2GhPc"
      },
      "execution_count": null,
      "outputs": []
    },
    {
      "cell_type": "code",
      "source": [
        "t = loatki_doc[['anger','positivity','joy','surprise','trust','anticipation','sadness','negative','fear']].sum().sort_values(ascending= False).plot(kind='bar',color=('C0','C1','C2','C3','C4','C5','C6','C7','C9'), figsize=(10,5))\n",
        "t.set_title('Συναισθήματα στον τρόπο γραφής των άρθρων  με θέμα ΛΟΑΤΚΙ')\n",
        "t.spines['right'].set_visible(False)\n",
        "t.spines['top'].set_visible(False)\n",
        "t.set_xlabel('Emotions')"
      ],
      "metadata": {
        "id": "i7Tor6BySYgt"
      },
      "execution_count": null,
      "outputs": []
    },
    {
      "cell_type": "code",
      "source": [
        "ax = emotions['positivity'].resample('M').mean().plot(figsize=(16,4), \n",
        "                                                          color = 'g', label='pos')\n",
        "emotions['negative'].resample('M').mean().plot(figsize=(16,4), ax = ax, \n",
        "                                                   label = 'neg', color = 'r')\n",
        "emotions['trust'].resample('M').mean().plot(figsize=(16,4), ax = ax, \n",
        "                                                label = 'trust',color = 'blue').legend()\n",
        "emotions['fear'].resample('M').mean().plot(figsize=(16,4), ax = ax, \n",
        "                                                label = 'fear',color = 'black').legend()\n",
        "emotions['anger'].resample('M').mean().plot(figsize=(16,4), ax = ax, \n",
        "                                                label = 'anger',color = 'purple').legend()"
      ],
      "metadata": {
        "id": "cXWBYgGYYvrZ"
      },
      "execution_count": null,
      "outputs": []
    },
    {
      "cell_type": "code",
      "source": [
        "(rows,_) = emotions.shape\n",
        "labels = emotions.columns\n",
        "\n",
        "for i in range(rows):\n",
        "    data = emotions.iloc[[i]].values[0].tolist()\n",
        "    date = str(emotions.iloc[[i]].axes[0].values[0]).split('T')[0]\n",
        "    plt.figure(figsize=(30,10))\n",
        "    plt.pie(data,labels=labels,)\n",
        "    plt.legend()\n",
        "    plt.title(f' Τα συναισθήματα στα άρθρα για {date}')\n",
        "    plt.show()"
      ],
      "metadata": {
        "id": "UfF7YkQnScFc"
      },
      "execution_count": null,
      "outputs": []
    },
    {
      "cell_type": "code",
      "source": [
        ""
      ],
      "metadata": {
        "id": "8uVSObI0Xxv8"
      },
      "execution_count": null,
      "outputs": []
    },
    {
      "cell_type": "code",
      "source": [
        "from textblob import TextBlob, Word\n",
        "\n",
        "#def detect_polarity(text):\n",
        "#    return TextBlob(text).sentiment.polarity\n",
        "def detect_subjectivity(text):\n",
        "    return TextBlob(text).sentiment.subjectivity"
      ],
      "metadata": {
        "id": "GSqcnC_kgQDX"
      },
      "execution_count": null,
      "outputs": []
    },
    {
      "cell_type": "code",
      "source": [
        "df.to_csv('news_clean.csv', index = False)"
      ],
      "metadata": {
        "id": "X1Ls-Ln1hOu4"
      },
      "execution_count": null,
      "outputs": []
    },
    {
      "cell_type": "markdown",
      "source": [
        "## Πολικότητα άρθρων ανά διαστήματα "
      ],
      "metadata": {
        "id": "PM5oPriaiEmk"
      }
    },
    {
      "cell_type": "code",
      "source": [
        "emotions['2022':]\n"
      ],
      "metadata": {
        "id": "rDdlcdcziMgM"
      },
      "execution_count": null,
      "outputs": []
    },
    {
      "cell_type": "code",
      "source": [
        "emotions['2022-01': '2022-06']"
      ],
      "metadata": {
        "id": "zOX5I-d6kFJB"
      },
      "execution_count": null,
      "outputs": []
    },
    {
      "cell_type": "code",
      "source": [
        "emotions['2022-01': '2022-06'].plot(y='positivity') #diagramma gia to sinaisthima tis xaras to prwto eksamino tou 2022\n"
      ],
      "metadata": {
        "id": "9FWum8G3kTrT"
      },
      "execution_count": null,
      "outputs": []
    },
    {
      "cell_type": "code",
      "source": [
        "emotions['2022-01': '2022-06'].plot(y='anger')"
      ],
      "metadata": {
        "id": "HeVOlgyjlBmA"
      },
      "execution_count": null,
      "outputs": []
    },
    {
      "cell_type": "code",
      "source": [
        "emotions.resample('A').mean().plot(y='positivity')\n",
        "#resample, group ta dedomena ana xronia"
      ],
      "metadata": {
        "id": "ZaPGRuE5lSn_"
      },
      "execution_count": null,
      "outputs": []
    },
    {
      "cell_type": "code",
      "source": [
        "emotions.resample('A').mean().plot(y='anger')\n",
        "#resample, group ta dedomena ana xronia"
      ],
      "metadata": {
        "id": "9qJ8NcBlliT1"
      },
      "execution_count": null,
      "outputs": []
    },
    {
      "cell_type": "code",
      "source": [
        "import matplotlib.pyplot as plt\n",
        "plt.style.use('ggplot')"
      ],
      "metadata": {
        "id": "t1ibld6TmDnP"
      },
      "execution_count": null,
      "outputs": []
    },
    {
      "cell_type": "code",
      "source": [
        "emotions['anger'].plot()\n",
        "emotions['anger'].resample('A').mean().plot()\n",
        "emotions['anger'].resample('5A').mean().plot()"
      ],
      "metadata": {
        "id": "WGiAgjrzl3LG"
      },
      "execution_count": null,
      "outputs": []
    },
    {
      "cell_type": "code",
      "source": [
        "loatki_doc.sort_values(by='anger').head() #oi xeiroteroi mines\n"
      ],
      "metadata": {
        "id": "XOEJbn9xmPYy"
      },
      "execution_count": null,
      "outputs": []
    },
    {
      "cell_type": "code",
      "source": [
        "\n",
        "emotions['positivity'].resample('A').max().plot(color='red')\n",
        "emotions['positivity'].resample('A').min().plot(color='green')\n",
        "emotions['positivity'].resample('A').mean().plot(color='blue')"
      ],
      "metadata": {
        "id": "3LICGuPnmkQN"
      },
      "execution_count": null,
      "outputs": []
    },
    {
      "cell_type": "code",
      "source": [
        "\n",
        "emotions['anger'].resample('A').max().plot(color='red')\n",
        "emotions['anger'].resample('A').min().plot(color='green')\n",
        "emotions['anger'].resample('A').mean().plot(color='blue')"
      ],
      "metadata": {
        "id": "AZQaGk3cmwbB"
      },
      "execution_count": null,
      "outputs": []
    },
    {
      "cell_type": "markdown",
      "source": [
        "## Heatmap"
      ],
      "metadata": {
        "id": "JWyYcIc0cQ_j"
      }
    },
    {
      "cell_type": "code",
      "source": [
        "from sklearn.feature_extraction.text import TfidfVectorizer"
      ],
      "metadata": {
        "id": "IYxrrE1fmcf7"
      },
      "execution_count": null,
      "outputs": []
    },
    {
      "cell_type": "code",
      "source": [
        "tfidf_vectorizer = TfidfVectorizer(stop_words= nlp.Defaults.stop_words, max_features=50)\n",
        "tfidf_matrix_train1 = tfidf_vectorizer.fit_transform(loatki_doc['Title'])"
      ],
      "metadata": {
        "id": "FTSBOdQOmc3l"
      },
      "execution_count": null,
      "outputs": []
    },
    {
      "cell_type": "code",
      "source": [
        "resultsWb = pd.DataFrame(tfidf_matrix_train1.toarray(), columns=tfidf_vectorizer.get_feature_names()) \n",
        "resultsWb.head()"
      ],
      "metadata": {
        "id": "zf5TM0B_owBt"
      },
      "execution_count": null,
      "outputs": []
    },
    {
      "cell_type": "code",
      "source": [
        "resultsWb.sum(axis =0).sort_values(ascending = False)"
      ],
      "metadata": {
        "id": "qKqQqpOgmibj"
      },
      "execution_count": null,
      "outputs": []
    },
    {
      "cell_type": "code",
      "source": [
        ""
      ],
      "metadata": {
        "id": "delASrb1sggJ"
      },
      "execution_count": null,
      "outputs": []
    },
    {
      "cell_type": "code",
      "source": [
        "resultsTw = pd.DataFrame(tfidf_matrix_train2.toarray(), columns=tfidf_vectorizer.get_feature_names()) \n",
        "resultsTw.head()"
      ],
      "metadata": {
        "id": "vevMen4hspWX"
      },
      "execution_count": null,
      "outputs": []
    },
    {
      "cell_type": "code",
      "source": [
        ""
      ],
      "metadata": {
        "id": "HkcTmsZxssGX"
      },
      "execution_count": null,
      "outputs": []
    }
  ],
  "metadata": {
    "colab": {
      "name": "Gamvrinou_teliki_ergasia",
      "provenance": [],
      "collapsed_sections": [
        "PM5oPriaiEmk",
        "JWyYcIc0cQ_j"
      ]
    },
    "kernelspec": {
      "display_name": "Python 3",
      "name": "python3"
    },
    "language_info": {
      "name": "python"
    }
  },
  "nbformat": 4,
  "nbformat_minor": 0
}